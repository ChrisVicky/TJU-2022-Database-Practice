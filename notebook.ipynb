{
 "cells": [
  {
   "cell_type": "code",
   "execution_count": 3,
   "id": "a6a165b3",
   "metadata": {},
   "outputs": [],
   "source": [
    "from utils import helper\n",
    "import app\n",
    "import numpy as np\n",
    "from utils.ML import get_emb"
   ]
  },
  {
   "cell_type": "code",
   "execution_count": 4,
   "id": "94a65626-f3fb-4092-8f39-020739ca378b",
   "metadata": {},
   "outputs": [],
   "source": [
    "titles = ['abcdfs sf as']\n",
    "titles_emb = get_emb(titles)[0]"
   ]
  },
  {
   "cell_type": "code",
   "execution_count": 5,
   "id": "d4c1231f-52f5-431f-901b-3eca92581e03",
   "metadata": {},
   "outputs": [
    {
     "data": {
      "text/plain": [
       "(384,)"
      ]
     },
     "execution_count": 5,
     "metadata": {},
     "output_type": "execute_result"
    }
   ],
   "source": [
    "titles_emb.shape"
   ]
  },
  {
   "cell_type": "code",
   "execution_count": 6,
   "id": "20b6e598-24d2-4570-b033-fed828b8ce48",
   "metadata": {},
   "outputs": [],
   "source": [
    "inparams = (5, titles_emb)"
   ]
  },
  {
   "cell_type": "code",
   "execution_count": 13,
   "id": "66f6a04b-25dd-4cc0-a04c-a311caa84db2",
   "metadata": {},
   "outputs": [],
   "source": [
    "with app.app.app_context():\n",
    "    from models import db\n",
    "    session = db.engine.raw_connection().cursor()\n",
    "    session.callproc(\"\\\"StackExchange\\\".semantic_query\", [5, titles_emb.tolist()])\n",
    "    results = list(session.fetchall())\n",
    "    session.close()"
   ]
  },
  {
   "cell_type": "code",
   "execution_count": 14,
   "id": "4ff574ea-6d40-4f83-9c76-d84d4261772b",
   "metadata": {},
   "outputs": [
    {
     "name": "stdout",
     "output_type": "stream",
     "text": [
      "[(2, 42477, 0.3610850740939917), (2, 38050, 0.34525827049710495), (3, 347999, 0.343745273596089), (3, 308377, 0.32964495516207104), (3, 351847, 0.32414249990428856)]\n"
     ]
    }
   ],
   "source": [
    "print(results)"
   ]
  },
  {
   "cell_type": "code",
   "execution_count": 17,
   "id": "d81c9f3a-b449-4683-9076-1c5fc92af8a1",
   "metadata": {},
   "outputs": [
    {
     "data": {
      "text/plain": [
       "[(2, 42477), (2, 38050), (3, 347999), (3, 308377), (3, 351847)]"
      ]
     },
     "execution_count": 17,
     "metadata": {},
     "output_type": "execute_result"
    }
   ],
   "source": [
    "fpids = [(r[0],r[1]) for r in results]\n",
    "fpids"
   ]
  },
  {
   "cell_type": "code",
   "execution_count": 19,
   "id": "e8991525-2fc8-406c-9c7f-f4eab47a7606",
   "metadata": {},
   "outputs": [
    {
     "ename": "RuntimeError",
     "evalue": "Working outside of application context.\n\nThis typically means that you attempted to use functionality that needed\nthe current application. To solve this, set up an application context\nwith app.app_context(). See the documentation for more information.",
     "output_type": "error",
     "traceback": [
      "\u001b[0;31m---------------------------------------------------------------------------\u001b[0m",
      "\u001b[0;31mRuntimeError\u001b[0m                              Traceback (most recent call last)",
      "Cell \u001b[0;32mIn [19], line 2\u001b[0m\n\u001b[1;32m      1\u001b[0m \u001b[38;5;28;01mfrom\u001b[39;00m \u001b[38;5;21;01mmodels\u001b[39;00m\u001b[38;5;21;01m.\u001b[39;00m\u001b[38;5;21;01mposts\u001b[39;00m \u001b[38;5;28;01mimport\u001b[39;00m Posts\n\u001b[0;32m----> 2\u001b[0m plst \u001b[38;5;241m=\u001b[39m Posts\u001b[38;5;241m.\u001b[39mquery\u001b[38;5;241m.\u001b[39mfilter((Posts\u001b[38;5;241m.\u001b[39mfieldid, Posts\u001b[38;5;241m.\u001b[39mid)\u001b[38;5;241m.\u001b[39m_in(fpids))\u001b[38;5;241m.\u001b[39mall()\n",
      "File \u001b[0;32m~/.anaconda3/envs/database-flask/lib/python3.10/site-packages/flask_sqlalchemy/model.py:31\u001b[0m, in \u001b[0;36m_QueryProperty.__get__\u001b[0;34m(self, obj, cls)\u001b[0m\n\u001b[1;32m     29\u001b[0m \u001b[38;5;28;01mdef\u001b[39;00m \u001b[38;5;21m__get__\u001b[39m(\u001b[38;5;28mself\u001b[39m, obj: Model \u001b[38;5;241m|\u001b[39m \u001b[38;5;28;01mNone\u001b[39;00m, \u001b[38;5;28mcls\u001b[39m: t\u001b[38;5;241m.\u001b[39mType[Model]) \u001b[38;5;241m-\u001b[39m\u001b[38;5;241m>\u001b[39m Query:\n\u001b[1;32m     30\u001b[0m     \u001b[38;5;28;01mreturn\u001b[39;00m \u001b[38;5;28mcls\u001b[39m\u001b[38;5;241m.\u001b[39mquery_class(\n\u001b[0;32m---> 31\u001b[0m         \u001b[38;5;28mcls\u001b[39m, session\u001b[38;5;241m=\u001b[39m\u001b[38;5;28;43mcls\u001b[39;49m\u001b[38;5;241;43m.\u001b[39;49m\u001b[43m__fsa__\u001b[49m\u001b[38;5;241;43m.\u001b[39;49m\u001b[43msession\u001b[49m\u001b[43m(\u001b[49m\u001b[43m)\u001b[49m  \u001b[38;5;66;03m# type: ignore[arg-type]\u001b[39;00m\n\u001b[1;32m     32\u001b[0m     )\n",
      "File \u001b[0;32m~/.anaconda3/envs/database-flask/lib/python3.10/site-packages/sqlalchemy/orm/scoping.py:47\u001b[0m, in \u001b[0;36mScopedSessionMixin.__call__\u001b[0;34m(self, **kw)\u001b[0m\n\u001b[1;32m     45\u001b[0m         \u001b[38;5;28mself\u001b[39m\u001b[38;5;241m.\u001b[39mregistry\u001b[38;5;241m.\u001b[39mset(sess)\n\u001b[1;32m     46\u001b[0m \u001b[38;5;28;01melse\u001b[39;00m:\n\u001b[0;32m---> 47\u001b[0m     sess \u001b[38;5;241m=\u001b[39m \u001b[38;5;28;43mself\u001b[39;49m\u001b[38;5;241;43m.\u001b[39;49m\u001b[43mregistry\u001b[49m\u001b[43m(\u001b[49m\u001b[43m)\u001b[49m\n\u001b[1;32m     48\u001b[0m \u001b[38;5;28;01mif\u001b[39;00m \u001b[38;5;129;01mnot\u001b[39;00m \u001b[38;5;28mself\u001b[39m\u001b[38;5;241m.\u001b[39m_support_async \u001b[38;5;129;01mand\u001b[39;00m sess\u001b[38;5;241m.\u001b[39m_is_asyncio:\n\u001b[1;32m     49\u001b[0m     warn_deprecated(\n\u001b[1;32m     50\u001b[0m         \u001b[38;5;124m\"\u001b[39m\u001b[38;5;124mUsing `scoped_session` with asyncio is deprecated and \u001b[39m\u001b[38;5;124m\"\u001b[39m\n\u001b[1;32m     51\u001b[0m         \u001b[38;5;124m\"\u001b[39m\u001b[38;5;124mwill raise an error in a future version. \u001b[39m\u001b[38;5;124m\"\u001b[39m\n\u001b[1;32m     52\u001b[0m         \u001b[38;5;124m\"\u001b[39m\u001b[38;5;124mPlease use `async_scoped_session` instead.\u001b[39m\u001b[38;5;124m\"\u001b[39m,\n\u001b[1;32m     53\u001b[0m         \u001b[38;5;124m\"\u001b[39m\u001b[38;5;124m1.4.23\u001b[39m\u001b[38;5;124m\"\u001b[39m,\n\u001b[1;32m     54\u001b[0m     )\n",
      "File \u001b[0;32m~/.anaconda3/envs/database-flask/lib/python3.10/site-packages/sqlalchemy/util/_collections.py:1006\u001b[0m, in \u001b[0;36mScopedRegistry.__call__\u001b[0;34m(self)\u001b[0m\n\u001b[1;32m   1005\u001b[0m \u001b[38;5;28;01mdef\u001b[39;00m \u001b[38;5;21m__call__\u001b[39m(\u001b[38;5;28mself\u001b[39m):\n\u001b[0;32m-> 1006\u001b[0m     key \u001b[38;5;241m=\u001b[39m \u001b[38;5;28;43mself\u001b[39;49m\u001b[38;5;241;43m.\u001b[39;49m\u001b[43mscopefunc\u001b[49m\u001b[43m(\u001b[49m\u001b[43m)\u001b[49m\n\u001b[1;32m   1007\u001b[0m     \u001b[38;5;28;01mtry\u001b[39;00m:\n\u001b[1;32m   1008\u001b[0m         \u001b[38;5;28;01mreturn\u001b[39;00m \u001b[38;5;28mself\u001b[39m\u001b[38;5;241m.\u001b[39mregistry[key]\n",
      "File \u001b[0;32m~/.anaconda3/envs/database-flask/lib/python3.10/site-packages/flask_sqlalchemy/session.py:81\u001b[0m, in \u001b[0;36m_app_ctx_id\u001b[0;34m()\u001b[0m\n\u001b[1;32m     79\u001b[0m \u001b[38;5;28;01mdef\u001b[39;00m \u001b[38;5;21m_app_ctx_id\u001b[39m() \u001b[38;5;241m-\u001b[39m\u001b[38;5;241m>\u001b[39m \u001b[38;5;28mint\u001b[39m:\n\u001b[1;32m     80\u001b[0m     \u001b[38;5;124;03m\"\"\"Get the id of the current Flask application context for the session scope.\"\"\"\u001b[39;00m\n\u001b[0;32m---> 81\u001b[0m     \u001b[38;5;28;01mreturn\u001b[39;00m \u001b[38;5;28mid\u001b[39m(\u001b[43mapp_ctx\u001b[49m\u001b[38;5;241;43m.\u001b[39;49m\u001b[43m_get_current_object\u001b[49m\u001b[43m(\u001b[49m\u001b[43m)\u001b[49m)\n",
      "File \u001b[0;32m~/.anaconda3/envs/database-flask/lib/python3.10/site-packages/werkzeug/local.py:513\u001b[0m, in \u001b[0;36mLocalProxy.__init__.<locals>._get_current_object\u001b[0;34m()\u001b[0m\n\u001b[1;32m    511\u001b[0m     obj \u001b[38;5;241m=\u001b[39m local\u001b[38;5;241m.\u001b[39mget()  \u001b[38;5;66;03m# type: ignore[union-attr]\u001b[39;00m\n\u001b[1;32m    512\u001b[0m \u001b[38;5;28;01mexcept\u001b[39;00m \u001b[38;5;167;01mLookupError\u001b[39;00m:\n\u001b[0;32m--> 513\u001b[0m     \u001b[38;5;28;01mraise\u001b[39;00m \u001b[38;5;167;01mRuntimeError\u001b[39;00m(unbound_message) \u001b[38;5;28;01mfrom\u001b[39;00m \u001b[38;5;28mNone\u001b[39m\n\u001b[1;32m    515\u001b[0m \u001b[38;5;28;01mreturn\u001b[39;00m get_name(obj)\n",
      "\u001b[0;31mRuntimeError\u001b[0m: Working outside of application context.\n\nThis typically means that you attempted to use functionality that needed\nthe current application. To solve this, set up an application context\nwith app.app_context(). See the documentation for more information."
     ]
    }
   ],
   "source": [
    "from models.posts import Posts\n",
    "plst = Posts.query.filter().all()"
   ]
  }
 ],
 "metadata": {
  "kernelspec": {
   "display_name": "Python 3 (ipykernel)",
   "language": "python",
   "name": "python3"
  },
  "language_info": {
   "codemirror_mode": {
    "name": "ipython",
    "version": 3
   },
   "file_extension": ".py",
   "mimetype": "text/x-python",
   "name": "python",
   "nbconvert_exporter": "python",
   "pygments_lexer": "ipython3",
   "version": "3.10.8"
  }
 },
 "nbformat": 4,
 "nbformat_minor": 5
}
