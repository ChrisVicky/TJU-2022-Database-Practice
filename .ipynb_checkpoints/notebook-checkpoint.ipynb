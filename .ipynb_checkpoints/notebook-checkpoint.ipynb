{
 "cells": [
  {
   "cell_type": "code",
   "execution_count": 1,
   "id": "a6a165b3",
   "metadata": {},
   "outputs": [
    {
     "name": "stderr",
     "output_type": "stream",
     "text": [
      "/home/christopher/.local/lib/python3.10/site-packages/tqdm/auto.py:22: TqdmWarning: IProgress not found. Please update jupyter and ipywidgets. See https://ipywidgets.readthedocs.io/en/stable/user_install.html\n",
      "  from .autonotebook import tqdm as notebook_tqdm\n"
     ]
    }
   ],
   "source": [
    "from utils import helper\n",
    "import app\n",
    "import numpy as np"
   ]
  },
  {
   "cell_type": "code",
   "execution_count": 2,
   "id": "33de9eb7",
   "metadata": {},
   "outputs": [],
   "source": [
    "from utils import get_semantic\n",
    "from utils.ML import get_emb"
   ]
  },
  {
   "cell_type": "code",
   "execution_count": null,
   "id": "5d481080",
   "metadata": {},
   "outputs": [
    {
     "name": "stdout",
     "output_type": "stream",
     "text": [
      "[2022-11-29 22:22:19.497203] [insert_embeddings:46] [start embedding insertion]\n",
      "[2022-11-29 22:22:20.392913] [insert_embeddings:48] [Total 107274]\n",
      "[2022-11-29 22:22:28.399611] [insert_embeddings:86] [12/10728 erc: 0, lentitle: 106, lenvalid: 106, counts: 10708, skp: 24]\n",
      "[2022-11-29 22:22:35.292755] [insert_embeddings:86] [23/10728 erc: 0, lentitle: 102, lenvalid: 102, counts: 10810, skp: 32]\n",
      "[2022-11-29 22:22:42.195843] [insert_embeddings:86] [34/10728 erc: 0, lentitle: 100, lenvalid: 100, counts: 10910, skp: 42]\n",
      "[2022-11-29 22:22:49.636926] [insert_embeddings:86] [46/10728 erc: 0, lentitle: 104, lenvalid: 104, counts: 11014, skp: 58]\n",
      "[2022-11-29 22:22:58.051030] [insert_embeddings:86] [59/10728 erc: 0, lentitle: 100, lenvalid: 100, counts: 11114, skp: 88]\n",
      "[2022-11-29 22:23:06.087864] [insert_embeddings:86] [71/10728 erc: 0, lentitle: 102, lenvalid: 102, counts: 11216, skp: 106]\n",
      "[2022-11-29 22:23:13.981067] [insert_embeddings:86] [84/10728 erc: 0, lentitle: 103, lenvalid: 103, counts: 11319, skp: 133]\n",
      "[2022-11-29 22:23:21.584062] [insert_embeddings:86] [96/10728 erc: 0, lentitle: 106, lenvalid: 106, counts: 11425, skp: 147]\n",
      "[2022-11-29 22:23:28.950285] [insert_embeddings:86] [107/10728 erc: 0, lentitle: 103, lenvalid: 103, counts: 11528, skp: 154]\n",
      "[2022-11-29 22:23:37.408777] [insert_embeddings:86] [118/10728 erc: 0, lentitle: 104, lenvalid: 104, counts: 11632, skp: 160]\n",
      "[2022-11-29 22:23:44.865409] [insert_embeddings:86] [129/10728 erc: 0, lentitle: 102, lenvalid: 102, counts: 11734, skp: 168]\n",
      "[2022-11-29 22:23:52.523325] [insert_embeddings:86] [141/10728 erc: 0, lentitle: 101, lenvalid: 101, counts: 11835, skp: 187]\n",
      "[2022-11-29 22:24:07.427100] [insert_embeddings:86] [156/10728 erc: 0, lentitle: 101, lenvalid: 101, counts: 11936, skp: 236]\n",
      "[2022-11-29 22:24:16.119051] [insert_embeddings:86] [168/10728 erc: 0, lentitle: 106, lenvalid: 106, counts: 12042, skp: 250]\n",
      "[2022-11-29 22:24:24.995803] [insert_embeddings:86] [179/10728 erc: 0, lentitle: 101, lenvalid: 101, counts: 12143, skp: 259]\n",
      "[2022-11-29 22:24:34.015484] [insert_embeddings:86] [193/10728 erc: 0, lentitle: 108, lenvalid: 108, counts: 12251, skp: 291]\n",
      "[2022-11-29 22:24:41.307856] [insert_embeddings:86] [204/10728 erc: 0, lentitle: 101, lenvalid: 101, counts: 12352, skp: 300]\n"
     ]
    }
   ],
   "source": [
    "with app.app.app_context(): \n",
    "    helper.insert_embeddings()"
   ]
  }
 ],
 "metadata": {
  "kernelspec": {
   "display_name": "Python 3 (ipykernel)",
   "language": "python",
   "name": "python3"
  },
  "language_info": {
   "codemirror_mode": {
    "name": "ipython",
    "version": 3
   },
   "file_extension": ".py",
   "mimetype": "text/x-python",
   "name": "python",
   "nbconvert_exporter": "python",
   "pygments_lexer": "ipython3",
   "version": "3.10.8"
  }
 },
 "nbformat": 4,
 "nbformat_minor": 5
}
